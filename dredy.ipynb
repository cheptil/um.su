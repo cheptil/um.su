{
 "cells": [
  {
   "cell_type": "code",
   "execution_count": 55,
   "metadata": {},
   "outputs": [],
   "source": [
    "import json\n",
    "from pprint import pprint"
   ]
  },
  {
   "cell_type": "code",
   "execution_count": 23,
   "metadata": {},
   "outputs": [
    {
     "data": {
      "text/plain": [
       "str"
      ]
     },
     "execution_count": 23,
     "metadata": {},
     "output_type": "execute_result"
    }
   ],
   "source": [
    "f = open(\"mechmath2018.json\", 'r')\n",
    "ff = f.read()\n",
    "type(ff)"
   ]
  },
  {
   "cell_type": "code",
   "execution_count": 25,
   "metadata": {},
   "outputs": [
    {
     "data": {
      "text/plain": [
       "dict"
      ]
     },
     "execution_count": 25,
     "metadata": {},
     "output_type": "execute_result"
    }
   ],
   "source": [
    "b = json.loads(ff)\n",
    "type(b)"
   ]
  },
  {
   "cell_type": "code",
   "execution_count": 26,
   "metadata": {},
   "outputs": [
    {
     "data": {
      "text/plain": [
       "[u'response']"
      ]
     },
     "execution_count": 26,
     "metadata": {},
     "output_type": "execute_result"
    }
   ],
   "source": [
    "b.keys()"
   ]
  },
  {
   "cell_type": "code",
   "execution_count": 39,
   "metadata": {},
   "outputs": [
    {
     "name": "stdout",
     "output_type": "stream",
     "text": [
      "Глеб\n"
     ]
    }
   ],
   "source": [
    "print(b['response']['items'][0]['first_name'])"
   ]
  },
  {
   "cell_type": "code",
   "execution_count": 40,
   "metadata": {},
   "outputs": [
    {
     "data": {
      "text/plain": [
       "397"
      ]
     },
     "execution_count": 40,
     "metadata": {},
     "output_type": "execute_result"
    }
   ],
   "source": [
    "b=b['response']['items']\n",
    "len(b)"
   ]
  },
  {
   "cell_type": "code",
   "execution_count": 41,
   "metadata": {},
   "outputs": [
    {
     "name": "stdout",
     "output_type": "stream",
     "text": [
      "{u'first_name': u'\\u0413\\u043b\\u0435\\u0431', u'last_name': u'\\u0424\\u0451\\u0434\\u043e\\u0440\\u043e\\u0432', u'id': 14838, u'sex': 2}\n"
     ]
    }
   ],
   "source": [
    "print(b[0])"
   ]
  },
  {
   "cell_type": "code",
   "execution_count": 43,
   "metadata": {},
   "outputs": [
    {
     "data": {
      "text/plain": [
       "<type 'set'>"
      ]
     },
     "execution_count": 43,
     "metadata": {},
     "output_type": "execute_result"
    }
   ],
   "source": [
    "a=set()\n",
    "type(a)"
   ]
  },
  {
   "cell_type": "code",
   "execution_count": 51,
   "metadata": {},
   "outputs": [
    {
     "name": "stdout",
     "output_type": "stream",
     "text": [
      "(148, 148)\n"
     ]
    }
   ],
   "source": [
    "fems = []\n",
    "fem_counter = 0\n",
    "for i in b:\n",
    "    if i['sex'] == 1:\n",
    "        fems.append(i)\n",
    "        fem_counter += 1\n",
    "print(len(fems), fem_counter)"
   ]
  },
  {
   "cell_type": "code",
   "execution_count": 54,
   "metadata": {},
   "outputs": [
    {
     "name": "stdout",
     "output_type": "stream",
     "text": [
      "Анастасия\n"
     ]
    }
   ],
   "source": [
    "print(fems[0]['first_name'])"
   ]
  },
  {
   "cell_type": "code",
   "execution_count": null,
   "metadata": {},
   "outputs": [],
   "source": []
  },
  {
   "cell_type": "code",
   "execution_count": 56,
   "metadata": {},
   "outputs": [],
   "source": [
    "f.close()"
   ]
  },
  {
   "cell_type": "code",
   "execution_count": 57,
   "metadata": {},
   "outputs": [],
   "source": [
    "f = open('ballmsu.json', 'r')"
   ]
  },
  {
   "cell_type": "code",
   "execution_count": 58,
   "metadata": {},
   "outputs": [],
   "source": [
    "b = json.loads(f.read())"
   ]
  },
  {
   "cell_type": "code",
   "execution_count": 61,
   "metadata": {},
   "outputs": [
    {
     "name": "stdout",
     "output_type": "stream",
     "text": [
      "(7624, 7624)\n"
     ]
    }
   ],
   "source": [
    "femsb = []\n",
    "femb_counter = 0\n",
    "for i in b:\n",
    "    if i['sex'] == 1:\n",
    "        femsb.append(i)\n",
    "        femb_counter += 1\n",
    "print(len(femsb), femb_counter)"
   ]
  },
  {
   "cell_type": "code",
   "execution_count": null,
   "metadata": {},
   "outputs": [],
   "source": []
  },
  {
   "cell_type": "code",
   "execution_count": 62,
   "metadata": {},
   "outputs": [
    {
     "data": {
      "text/plain": [
       "{u'first_name': u'Olya', u'last_name': u'Krulevetskaya', u'uid': 2278, u'sex': 1}"
      ]
     },
     "execution_count": 62,
     "metadata": {},
     "output_type": "execute_result"
    }
   ],
   "source": [
    "femsb[0]"
   ]
  },
  {
   "cell_type": "code",
   "execution_count": 64,
   "metadata": {},
   "outputs": [
    {
     "data": {
      "text/plain": [
       "{u'first_name': u'\\u0410\\u043d\\u0430\\u0441\\u0442\\u0430\\u0441\\u0438\\u044f', u'last_name': u'\\u0414\\u0435\\u0433\\u0442\\u044f\\u0440\\u0435\\u0432\\u0430', u'id': 1793685, u'sex': 1}"
      ]
     },
     "execution_count": 64,
     "metadata": {},
     "output_type": "execute_result"
    }
   ],
   "source": [
    "fems[0]"
   ]
  },
  {
   "cell_type": "code",
   "execution_count": 65,
   "metadata": {},
   "outputs": [
    {
     "data": {
      "text/plain": [
       "148"
      ]
     },
     "execution_count": 65,
     "metadata": {},
     "output_type": "execute_result"
    }
   ],
   "source": [
    "fems_1 = set()\n",
    "for i in fems:\n",
    "    fems_1.add(i['id'])\n",
    "len(fems_1)"
   ]
  },
  {
   "cell_type": "code",
   "execution_count": 67,
   "metadata": {},
   "outputs": [
    {
     "data": {
      "text/plain": [
       "7624"
      ]
     },
     "execution_count": 67,
     "metadata": {},
     "output_type": "execute_result"
    }
   ],
   "source": [
    "fems_2 = set()\n",
    "for i in femsb:\n",
    "    fems_2.add(i['uid'])\n",
    "len(fems_2)"
   ]
  },
  {
   "cell_type": "code",
   "execution_count": 72,
   "metadata": {},
   "outputs": [
    {
     "data": {
      "text/plain": [
       "26"
      ]
     },
     "execution_count": 72,
     "metadata": {},
     "output_type": "execute_result"
    }
   ],
   "source": [
    "fems_res = fems_1.intersection(fems_2)\n",
    "len(fems_res)"
   ]
  },
  {
   "cell_type": "code",
   "execution_count": 82,
   "metadata": {},
   "outputs": [
    {
     "name": "stdout",
     "output_type": "stream",
     "text": [
      "Ирина\n",
      "Баранова\n",
      "http://vk.com/id13403699\n",
      "---\n",
      "Даша\n",
      "Филимонова\n",
      "http://vk.com/id47947248\n",
      "---\n",
      "Анна\n",
      "Богданова\n",
      "http://vk.com/id74402282\n",
      "---\n",
      "Таня\n",
      "К.\n",
      "http://vk.com/id87412692\n",
      "---\n",
      "Анна\n",
      "Пятина\n",
      "http://vk.com/id93660766\n",
      "---\n",
      "Анна\n",
      "Корчагина\n",
      "http://vk.com/id96631120\n",
      "---\n",
      "Лиза\n",
      "Федосеева\n",
      "http://vk.com/id115552372\n",
      "---\n",
      "Виктория\n",
      "Панасенко\n",
      "http://vk.com/id123159701\n",
      "---\n",
      "Мария\n",
      "Ходякова\n",
      "http://vk.com/id139353230\n",
      "---\n",
      "Идалия\n",
      "Багаутдинова\n",
      "http://vk.com/id141893055\n",
      "---\n",
      "Мария\n",
      "Большенко\n",
      "http://vk.com/id143838070\n",
      "---\n",
      "Екатерина\n",
      "Романова\n",
      "http://vk.com/id145177084\n",
      "---\n",
      "Ира\n",
      "Логинова\n",
      "http://vk.com/id149512700\n",
      "---\n",
      "Мариша\n",
      "Сакодынская\n",
      "http://vk.com/id155542682\n",
      "---\n",
      "Татьяна\n",
      "Устькачкинцева\n",
      "http://vk.com/id159924218\n",
      "---\n",
      "Eva\n",
      "Tarakanova\n",
      "http://vk.com/id173439535\n",
      "---\n",
      "Варвара\n",
      "Васильева\n",
      "http://vk.com/id224538917\n",
      "---\n",
      "Оля\n",
      "Здорова\n",
      "http://vk.com/id225164016\n",
      "---\n",
      "Нина\n",
      "Бадулина\n",
      "http://vk.com/id230640582\n",
      "---\n",
      "Таисия\n",
      "Рождественская\n",
      "http://vk.com/id248937260\n",
      "---\n",
      "Елена\n",
      "Белоножка\n",
      "http://vk.com/id250395171\n",
      "---\n",
      "Александра\n",
      "Архипова\n",
      "http://vk.com/id271888930\n",
      "---\n",
      "Алёна\n",
      "Кирюхина\n",
      "http://vk.com/id294586297\n",
      "---\n",
      "Александра\n",
      "Галкина\n",
      "http://vk.com/id322127423\n",
      "---\n",
      "The\n",
      "User\n",
      "http://vk.com/id350539961\n",
      "---\n",
      "Людмила\n",
      "Дипломова\n",
      "http://vk.com/id508884538\n",
      "---\n"
     ]
    },
    {
     "data": {
      "text/plain": [
       "26"
      ]
     },
     "execution_count": 82,
     "metadata": {},
     "output_type": "execute_result"
    }
   ],
   "source": [
    "fem_res_counter=0\n",
    "for i in fems:\n",
    "    if i['id'] in fems_res:\n",
    "        fem_res_counter += 1\n",
    "        print(i['first_name'])\n",
    "        print(i['last_name'])\n",
    "        print('http://vk.com/id'+str(i['id']))\n",
    "        print('---')\n",
    "fem_res_counter"
   ]
  },
  {
   "cell_type": "code",
   "execution_count": null,
   "metadata": {},
   "outputs": [],
   "source": []
  }
 ],
 "metadata": {
  "kernelspec": {
   "display_name": "Python 2",
   "language": "python",
   "name": "python2"
  },
  "language_info": {
   "codemirror_mode": {
    "name": "ipython",
    "version": 2
   },
   "file_extension": ".py",
   "mimetype": "text/x-python",
   "name": "python",
   "nbconvert_exporter": "python",
   "pygments_lexer": "ipython2",
   "version": "2.7.10"
  }
 },
 "nbformat": 4,
 "nbformat_minor": 2
}

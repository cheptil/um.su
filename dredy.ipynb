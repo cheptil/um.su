{
 "cells": [
  {
   "cell_type": "code",
   "execution_count": 1,
   "metadata": {},
   "outputs": [],
   "source": [
    "import json\n",
    "from pprint import pprint"
   ]
  },
  {
   "cell_type": "code",
   "execution_count": 2,
   "metadata": {},
   "outputs": [
    {
     "data": {
      "text/plain": [
       "str"
      ]
     },
     "execution_count": 2,
     "metadata": {},
     "output_type": "execute_result"
    }
   ],
   "source": [
    "f = open(\"mechmath2018.json\", 'r')\n",
    "ff = f.read()\n",
    "type(ff)"
   ]
  },
  {
   "cell_type": "code",
   "execution_count": 3,
   "metadata": {},
   "outputs": [
    {
     "data": {
      "text/plain": [
       "dict"
      ]
     },
     "execution_count": 3,
     "metadata": {},
     "output_type": "execute_result"
    }
   ],
   "source": [
    "b = json.loads(ff)\n",
    "type(b)"
   ]
  },
  {
   "cell_type": "code",
   "execution_count": 4,
   "metadata": {},
   "outputs": [
    {
     "data": {
      "text/plain": [
       "dict_keys(['response'])"
      ]
     },
     "execution_count": 4,
     "metadata": {},
     "output_type": "execute_result"
    }
   ],
   "source": [
    "b.keys()"
   ]
  },
  {
   "cell_type": "code",
   "execution_count": 5,
   "metadata": {},
   "outputs": [
    {
     "name": "stdout",
     "output_type": "stream",
     "text": [
      "Глеб\n"
     ]
    }
   ],
   "source": [
    "print(b['response']['items'][0]['first_name'])"
   ]
  },
  {
   "cell_type": "code",
   "execution_count": 6,
   "metadata": {},
   "outputs": [
    {
     "data": {
      "text/plain": [
       "397"
      ]
     },
     "execution_count": 6,
     "metadata": {},
     "output_type": "execute_result"
    }
   ],
   "source": [
    "b=b['response']['items']\n",
    "len(b)"
   ]
  },
  {
   "cell_type": "code",
   "execution_count": 7,
   "metadata": {},
   "outputs": [
    {
     "name": "stdout",
     "output_type": "stream",
     "text": [
      "{'id': 14838, 'first_name': 'Глеб', 'last_name': 'Фёдоров', 'sex': 2}\n"
     ]
    }
   ],
   "source": [
    "print(b[0])"
   ]
  },
  {
   "cell_type": "code",
   "execution_count": 8,
   "metadata": {},
   "outputs": [
    {
     "data": {
      "text/plain": [
       "set"
      ]
     },
     "execution_count": 8,
     "metadata": {},
     "output_type": "execute_result"
    }
   ],
   "source": [
    "a=set()\n",
    "type(a)"
   ]
  },
  {
   "cell_type": "code",
   "execution_count": 9,
   "metadata": {},
   "outputs": [
    {
     "name": "stdout",
     "output_type": "stream",
     "text": [
      "249 249\n"
     ]
    }
   ],
   "source": [
    "fems = []\n",
    "fem_counter = 0\n",
    "for i in b:\n",
    "    if i['sex'] == 2:\n",
    "        fems.append(i)\n",
    "        fem_counter += 1\n",
    "print(len(fems), fem_counter)"
   ]
  },
  {
   "cell_type": "code",
   "execution_count": 10,
   "metadata": {},
   "outputs": [
    {
     "name": "stdout",
     "output_type": "stream",
     "text": [
      "Глеб\n"
     ]
    }
   ],
   "source": [
    "print(fems[0]['first_name'])"
   ]
  },
  {
   "cell_type": "code",
   "execution_count": null,
   "metadata": {},
   "outputs": [],
   "source": []
  },
  {
   "cell_type": "code",
   "execution_count": 11,
   "metadata": {},
   "outputs": [],
   "source": [
    "f.close()"
   ]
  },
  {
   "cell_type": "code",
   "execution_count": 12,
   "metadata": {},
   "outputs": [],
   "source": [
    "f = open('ballmsu.json', 'r')"
   ]
  },
  {
   "cell_type": "code",
   "execution_count": 13,
   "metadata": {},
   "outputs": [],
   "source": [
    "b = json.loads(f.read())"
   ]
  },
  {
   "cell_type": "code",
   "execution_count": 15,
   "metadata": {},
   "outputs": [
    {
     "name": "stdout",
     "output_type": "stream",
     "text": [
      "3251 3251\n"
     ]
    }
   ],
   "source": [
    "femsb = []\n",
    "femb_counter = 0\n",
    "for i in b:\n",
    "    if i['sex'] == 2:\n",
    "        femsb.append(i)\n",
    "        femb_counter += 1\n",
    "print(len(femsb), femb_counter)"
   ]
  },
  {
   "cell_type": "code",
   "execution_count": null,
   "metadata": {},
   "outputs": [],
   "source": []
  },
  {
   "cell_type": "code",
   "execution_count": 16,
   "metadata": {},
   "outputs": [
    {
     "data": {
      "text/plain": [
       "{'first_name': 'Alexey', 'last_name': 'Potapov', 'uid': 4776, 'sex': 2}"
      ]
     },
     "execution_count": 16,
     "metadata": {},
     "output_type": "execute_result"
    }
   ],
   "source": [
    "femsb[0]"
   ]
  },
  {
   "cell_type": "code",
   "execution_count": 17,
   "metadata": {},
   "outputs": [
    {
     "data": {
      "text/plain": [
       "{'id': 14838, 'first_name': 'Глеб', 'last_name': 'Фёдоров', 'sex': 2}"
      ]
     },
     "execution_count": 17,
     "metadata": {},
     "output_type": "execute_result"
    }
   ],
   "source": [
    "fems[0]"
   ]
  },
  {
   "cell_type": "code",
   "execution_count": 18,
   "metadata": {},
   "outputs": [
    {
     "data": {
      "text/plain": [
       "249"
      ]
     },
     "execution_count": 18,
     "metadata": {},
     "output_type": "execute_result"
    }
   ],
   "source": [
    "fems_1 = set()\n",
    "for i in fems:\n",
    "    fems_1.add(i['id'])\n",
    "len(fems_1)"
   ]
  },
  {
   "cell_type": "code",
   "execution_count": 19,
   "metadata": {},
   "outputs": [
    {
     "data": {
      "text/plain": [
       "3251"
      ]
     },
     "execution_count": 19,
     "metadata": {},
     "output_type": "execute_result"
    }
   ],
   "source": [
    "fems_2 = set()\n",
    "for i in femsb:\n",
    "    fems_2.add(i['uid'])\n",
    "len(fems_2)"
   ]
  },
  {
   "cell_type": "code",
   "execution_count": 20,
   "metadata": {},
   "outputs": [
    {
     "data": {
      "text/plain": [
       "15"
      ]
     },
     "execution_count": 20,
     "metadata": {},
     "output_type": "execute_result"
    }
   ],
   "source": [
    "fems_res = fems_1.intersection(fems_2)\n",
    "len(fems_res)"
   ]
  },
  {
   "cell_type": "code",
   "execution_count": 21,
   "metadata": {},
   "outputs": [
    {
     "name": "stdout",
     "output_type": "stream",
     "text": [
      "Илья\n",
      "Денисов\n",
      "http://vk.com/id11822981\n",
      "---\n",
      "Алексей\n",
      "Колосов\n",
      "http://vk.com/id13628232\n",
      "---\n",
      "Кирилл\n",
      "Сапунов\n",
      "http://vk.com/id15361389\n",
      "---\n",
      "Миша\n",
      "Петровский\n",
      "http://vk.com/id90824519\n",
      "---\n",
      "Георгий\n",
      "Малиновский\n",
      "http://vk.com/id121940016\n",
      "---\n",
      "Сергей\n",
      "Кыльчик\n",
      "http://vk.com/id140217028\n",
      "---\n",
      "Даниил\n",
      "Хохряков\n",
      "http://vk.com/id142994685\n",
      "---\n",
      "Никита\n",
      "Сергеев\n",
      "http://vk.com/id173927430\n",
      "---\n",
      "Олег\n",
      "Кутузов\n",
      "http://vk.com/id175092367\n",
      "---\n",
      "Александр\n",
      "Литвин\n",
      "http://vk.com/id175784726\n",
      "---\n",
      "Кирилл\n",
      "Шапкин\n",
      "http://vk.com/id215118501\n",
      "---\n",
      "Сергей\n",
      "Артамонов\n",
      "http://vk.com/id270534042\n",
      "---\n",
      "Александр\n",
      "Прошин\n",
      "http://vk.com/id294245475\n",
      "---\n",
      "Николай\n",
      "Старцев\n",
      "http://vk.com/id303363866\n",
      "---\n",
      "Лев\n",
      "Светлицкий\n",
      "http://vk.com/id388568124\n",
      "---\n"
     ]
    },
    {
     "data": {
      "text/plain": [
       "15"
      ]
     },
     "execution_count": 21,
     "metadata": {},
     "output_type": "execute_result"
    }
   ],
   "source": [
    "fem_res_counter=0\n",
    "for i in fems:\n",
    "    if i['id'] in fems_res:\n",
    "        fem_res_counter += 1\n",
    "        print(i['first_name'])\n",
    "        print(i['last_name'])\n",
    "        print('http://vk.com/id'+str(i['id']))\n",
    "        print('---')\n",
    "fem_res_counter"
   ]
  },
  {
   "cell_type": "code",
   "execution_count": null,
   "metadata": {},
   "outputs": [],
   "source": []
  }
 ],
 "metadata": {
  "kernelspec": {
   "display_name": "Python 3",
   "language": "python",
   "name": "python3"
  },
  "language_info": {
   "codemirror_mode": {
    "name": "ipython",
    "version": 3
   },
   "file_extension": ".py",
   "mimetype": "text/x-python",
   "name": "python",
   "nbconvert_exporter": "python",
   "pygments_lexer": "ipython3",
   "version": "3.6.4"
  }
 },
 "nbformat": 4,
 "nbformat_minor": 2
}
